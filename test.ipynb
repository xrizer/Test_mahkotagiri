{
  "nbformat": 4,
  "nbformat_minor": 0,
  "metadata": {
    "colab": {
      "name": "test.ipynb",
      "provenance": []
    },
    "kernelspec": {
      "name": "python3",
      "display_name": "Python 3"
    },
    "language_info": {
      "name": "python"
    }
  },
  "cells": [
    {
      "cell_type": "markdown",
      "source": [
        "# Nomer 1\n"
      ],
      "metadata": {
        "id": "OkLdFi09Kerx"
      }
    },
    {
      "cell_type": "code",
      "source": [
        "# convert to i\n",
        "x = input('Enter your name:')\n",
        "\n",
        "def removeVowels(word):\n",
        "    vowels = ('a', 'e', 'i', 'o', 'u')\n",
        "    for c in word:\n",
        "        if c in vowels:\n",
        "            res = word.replace(c,\"i\")\n",
        "    return res \n",
        "print('Huruf asli, ' + x)\n",
        "print('Huruf setelah diganti, ' + removeVowels(x))\n",
        "\n"
      ],
      "metadata": {
        "colab": {
          "base_uri": "https://localhost:8080/"
        },
        "id": "pnPGpk7JJjyU",
        "outputId": "6755a559-9f54-4356-a302-b7fda9ad809e"
      },
      "execution_count": 25,
      "outputs": [
        {
          "output_type": "stream",
          "name": "stdout",
          "text": [
            "Enter your name:jika dimasukkan\n",
            "Huruf asli, jika dimasukkan\n",
            "Huruf setelah diganti, jiki dimisukkin\n"
          ]
        }
      ]
    },
    {
      "cell_type": "markdown",
      "source": [
        "# Nomer 2"
      ],
      "metadata": {
        "id": "ZgCIlmJlKnY3"
      }
    },
    {
      "cell_type": "code",
      "source": [
        "rudi = [8,7,6,9]\n",
        "ani = [5,8, 9,6]\n",
        "\n",
        "nilai_rudi = 0\n",
        "nilai_ani = 0\n",
        "for x in rudi:\n",
        "    for y in ani:\n",
        "      if x > y:\n",
        "        print(1)\n",
        "      else:\n",
        "        print(2)\n",
        "# print(nilai_rudi)\n",
        "# print(nilai_ani)"
      ],
      "metadata": {
        "colab": {
          "base_uri": "https://localhost:8080/"
        },
        "id": "u4wYfLnmKiri",
        "outputId": "8f9be806-b09c-4483-dec0-123d227b5bc4"
      },
      "execution_count": 26,
      "outputs": [
        {
          "output_type": "stream",
          "name": "stdout",
          "text": [
            "1\n",
            "2\n",
            "2\n",
            "1\n",
            "1\n",
            "2\n",
            "2\n",
            "1\n",
            "1\n",
            "2\n",
            "2\n",
            "2\n",
            "1\n",
            "1\n",
            "2\n",
            "1\n"
          ]
        }
      ]
    },
    {
      "cell_type": "markdown",
      "source": [
        "# Nomer 3"
      ],
      "metadata": {
        "id": "LYB9siM_M032"
      }
    },
    {
      "cell_type": "code",
      "source": [
        "x = input('Enter your name:')\n",
        "y = x[::-1]\n",
        "if x == y:\n",
        "  print('benar')\n",
        "else:\n",
        "  print('salah')"
      ],
      "metadata": {
        "colab": {
          "base_uri": "https://localhost:8080/"
        },
        "id": "fVg6Se02LvOq",
        "outputId": "2cade69e-cb1e-4515-cc65-c07bc17a07e3"
      },
      "execution_count": 27,
      "outputs": [
        {
          "output_type": "stream",
          "name": "stdout",
          "text": [
            "Enter your name:nama\n",
            "salah\n"
          ]
        }
      ]
    },
    {
      "cell_type": "markdown",
      "source": [
        "# Nomer 4"
      ],
      "metadata": {
        "id": "iY8PHz6AOBzE"
      }
    },
    {
      "cell_type": "code",
      "source": [
        "# t = ['a', 'b', 'c', 'd']\n",
        "# t2 = ['a', 'c', 'd']\n",
        "# def remove_duplicates(t,t2):\n",
        "#     for t in t2:\n",
        "#         t.append(t.remove())\n",
        "#     return t\n",
        "# remove_duplicates(t,t2)\n",
        "\n",
        "# x = [23, 45, 67, 90, 23, 1, 6, 90, 12, 43, 90, 67]\n",
        "# y = [23, 45, 67, 90, 1, 6, 12, 43]\n",
        "# def remove_duplicates(x,y):\n",
        "#     for y in x:\n",
        "#       x.remove(y)\n",
        "#       return x ``\n",
        "# z = remove_duplicates(x,y)\n",
        "# hasil = remove_duplicates(x,z)\n",
        "\n",
        "\n",
        "lists = [23, 45, 67, 90, 23, 1, 6, 90, 12, 43, 90, 67] \n",
        "print (\"The list is: \" + str(lists)) \n",
        "\n",
        "# remove duplicated from list \n",
        "result = [] \n",
        "for i in lists: \n",
        "    if i not in result: \n",
        "        result.append(i) \n",
        "\n",
        "# printing list after removal \n",
        "print (\"The list after removing duplicates : \" + str(result)) "
      ],
      "metadata": {
        "colab": {
          "base_uri": "https://localhost:8080/"
        },
        "id": "Cywod2qjOFwY",
        "outputId": "15c6cd73-ef7c-4d2e-be02-8805563f8772"
      },
      "execution_count": 40,
      "outputs": [
        {
          "output_type": "stream",
          "name": "stdout",
          "text": [
            "The list is: [23, 45, 67, 90, 23, 1, 6, 90, 12, 43, 90, 67]\n",
            "The list after removing duplicates : [23, 45, 67, 90, 1, 6, 12, 43]\n"
          ]
        }
      ]
    },
    {
      "cell_type": "markdown",
      "source": [
        "# Nomer 5"
      ],
      "metadata": {
        "id": "lEP0NzvrRl8b"
      }
    },
    {
      "cell_type": "code",
      "source": [
        "import random\n",
        "unordered =  [4, 5, 8, 9, 0, 2, 8, 2, 11, 15, 2, 9, 0]\n",
        "ordered = []\n",
        "i = 0\n",
        "\n",
        "random.shuffle(unordered)\n",
        "\n",
        "print(unordered)\n",
        "lowest = unordered[0]\n",
        "\n",
        "while len(unordered) > 0:\n",
        "    if  unordered[i] < lowest:\n",
        "        lowest = unordered[i]\n",
        "    i += 1\n",
        "    if i == len(unordered):\n",
        "        ordered.append(lowest)\n",
        "        unordered.remove(lowest)\n",
        "        if unordered:\n",
        "          lowest = unordered[0]\n",
        "        i = 0\n",
        "\n",
        "print(ordered)\n",
        "result = [] \n",
        "for i in ordered: \n",
        "    if i not in result: \n",
        "        result.append(i) \n",
        "print(result)"
      ],
      "metadata": {
        "colab": {
          "base_uri": "https://localhost:8080/"
        },
        "id": "sZ4KY-AMRlqs",
        "outputId": "7a54a123-53d5-46e9-888e-4d62c2b6fa62"
      },
      "execution_count": 47,
      "outputs": [
        {
          "output_type": "stream",
          "name": "stdout",
          "text": [
            "[2, 15, 8, 0, 9, 8, 4, 11, 9, 0, 2, 5, 2]\n",
            "[0, 0, 2, 2, 2, 4, 5, 8, 8, 9, 9, 11, 15]\n",
            "[0, 2, 4, 5, 8, 9, 11, 15]\n"
          ]
        }
      ]
    },
    {
      "cell_type": "markdown",
      "source": [
        "# Nomer 6"
      ],
      "metadata": {
        "id": "_i6LX6DsTFKh"
      }
    },
    {
      "cell_type": "code",
      "source": [
        "x= [\n",
        "    [\"1A\", \"2A\", \"3A\", \"4A\", \"5A\", \"6A\", \"7A\", \"8A\", \"9A\", \"10A\"],\n",
        "    [\"1B\", \"2B\", \"3B\", \"4B\", \"5B\", \"6B\", \"7B\", \"8B\", \"9B\", \"10B\"],\n",
        "    [\"1C\", \"2C\", \"3C\", \"4C\", \"5C\", \"6C\", \"7C\", \"8C\", \"9C\", \"10C\"],\n",
        "    [\"1D\", \"2D\", \"3D\", \"4D\", \"5D\", \"6D\", \"7D\", \"8D\", \"9D\", \"10D\"],\n",
        "    [\"1E\", \"2E\", \"3E\", \"4E\", \"5E\", \"6E\", \"7E\", \"8E\", \"9E\", \"10E\"],\n",
        "    [\"1F\", \"2F\", \"3F\", \"4F\", \"5F\", \"6F\", \"7F\", \"8F\", \"9F\", \"10F\"],\n",
        "    [\"1G\", \"2G\", \"3G\", \"4G\", \"5G\", \"6G\", \"7G\", \"8G\", \"9G\", \"10G\"],\n",
        "    [\"1H\", \"2H\", \"3H\", \"4H\", \"5H\", \"6H\", \"7H\", \"8H\", \"9H\", \"10H\"],\n",
        "    [\"1I\", \"2I\", \"3I\", \"4I\", \"5I\", \"6I\", \"7I\", \"8I\", \"9I\", \"10I\"],\n",
        "    [\"1J\", \"2J\", \"3J\", \"4J\", \"5J\", \"6J\", \"7J\", \"8J\", \"9J\", \"10J\"]\n",
        "]\n",
        "x[8][4] = '5I-booked'\n",
        "x"
      ],
      "metadata": {
        "id": "SBOqiPsvTFkb"
      },
      "execution_count": null,
      "outputs": []
    },
    {
      "cell_type": "markdown",
      "source": [
        "# Nomer 7"
      ],
      "metadata": {
        "id": "r81gUhL3W3rl"
      }
    },
    {
      "cell_type": "code",
      "source": [
        "uang = int(input('masukan jumlah uang: '))\n",
        "uang_pecahan = [100000, 50000, 20000, 10000, 5000, 2000, 1000, 500, 200, 100]\n",
        "jumlah_pecahan = {}\n",
        "sisa = uang\n",
        "print('Input uang {},  Pecahan yang kita butuhkan yaitu: '.format(uang))\n",
        "for pecahan in uang_pecahan:\n",
        "    if sisa < pecahan:\n",
        "        continue\n",
        "    banyak_pecahan = int(sisa / pecahan)\n",
        "    sisa = sisa - ( pecahan * banyak_pecahan )\n",
        "    print('pecahan {} : {}'.format(pecahan, banyak_pecahan))"
      ],
      "metadata": {
        "colab": {
          "base_uri": "https://localhost:8080/"
        },
        "id": "8ytDEMlQZaTe",
        "outputId": "05e56685-90be-4eec-abbc-1b81bc45b9e7"
      },
      "execution_count": 55,
      "outputs": [
        {
          "output_type": "stream",
          "name": "stdout",
          "text": [
            "masukan jumlah uang: 72500\n",
            "Input uang 72500,  Pecahan yang kita butuhkan yaitu: \n",
            "pecahan 50000 : 1\n",
            "pecahan 20000 : 1\n",
            "pecahan 2000 : 1\n",
            "pecahan 500 : 1\n"
          ]
        }
      ]
    },
    {
      "cell_type": "markdown",
      "source": [
        "# Nomer 8"
      ],
      "metadata": {
        "id": "gmrv9-lPZbdG"
      }
    },
    {
      "cell_type": "markdown",
      "source": [
        "![flowchart.drawio.png](data:image/png;base64,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)"
      ],
      "metadata": {
        "id": "rbdVRi-vZes6"
      }
    },
    {
      "cell_type": "markdown",
      "source": [
        "# Nomer 9"
      ],
      "metadata": {
        "id": "wEMYgwevS6QE"
      }
    },
    {
      "cell_type": "code",
      "source": [
        "# syntax \n",
        "SELECT * FROM table_jabatan,table_profile,table_user;"
      ],
      "metadata": {
        "id": "bDNuKb9sZTv3"
      },
      "execution_count": null,
      "outputs": []
    }
  ]
}